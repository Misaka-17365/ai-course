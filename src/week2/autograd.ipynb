{
 "cells": [
  {
   "cell_type": "code",
   "execution_count": 1,
   "metadata": {},
   "outputs": [],
   "source": [
    "import torch"
   ]
  },
  {
   "cell_type": "code",
   "execution_count": 2,
   "metadata": {},
   "outputs": [
    {
     "name": "stdout",
     "output_type": "stream",
     "text": [
      "tensor([[1., 1.],\n",
      "        [1., 1.]])\n",
      "tensor([[0.6797, 0.4401],\n",
      "        [0.8853, 0.5934]])\n"
     ]
    }
   ],
   "source": [
    "a = torch.ones(2,2)\n",
    "b = torch.rand_like(a)\n",
    "print(a)\n",
    "print(b)"
   ]
  },
  {
   "cell_type": "markdown",
   "metadata": {},
   "source": [
    "---"
   ]
  },
  {
   "cell_type": "markdown",
   "metadata": {},
   "source": [
    "# 使用方法"
   ]
  },
  {
   "cell_type": "markdown",
   "metadata": {},
   "source": [
    "执行运算并反向传播"
   ]
  },
  {
   "cell_type": "code",
   "execution_count": 3,
   "metadata": {},
   "outputs": [
    {
     "name": "stdout",
     "output_type": "stream",
     "text": [
      "tensor([[1.5650, 1.0335],\n",
      "        [1.5650, 1.0335]], grad_fn=<MmBackward0>)\n"
     ]
    }
   ],
   "source": [
    "a.requires_grad = True\n",
    "c = a @ b\n",
    "print(c)"
   ]
  },
  {
   "cell_type": "code",
   "execution_count": 4,
   "metadata": {},
   "outputs": [],
   "source": [
    "c.backward(torch.ones_like(c))"
   ]
  },
  {
   "cell_type": "markdown",
   "metadata": {},
   "source": [
    "查看张量`a`的导数"
   ]
  },
  {
   "cell_type": "code",
   "execution_count": 5,
   "metadata": {},
   "outputs": [
    {
     "name": "stdout",
     "output_type": "stream",
     "text": [
      "tensor([[1.1198, 1.4787],\n",
      "        [1.1198, 1.4787]])\n"
     ]
    }
   ],
   "source": [
    "print(a.grad)"
   ]
  },
  {
   "cell_type": "markdown",
   "metadata": {},
   "source": [
    "`autograd`的功能已经整合进Tensor类当中了\n",
    "\n",
    "使用自动求导功能只需要在建立Tensor时设定`requires_grad=True`或后续修改\n",
    "\n",
    "在进行`backword`时会自动计算并存入`tensor.grad`当中\n",
    "\n",
    "---\n",
    "\n",
    "`autograd`支持tensor之间的标量运算，也支持矩阵乘法\n",
    "\n",
    "---"
   ]
  },
  {
   "cell_type": "markdown",
   "metadata": {},
   "source": [
    "# 自定义函数"
   ]
  },
  {
   "cell_type": "markdown",
   "metadata": {},
   "source": [
    "如果我们需要自定义一个函数，让这个函数作为自动求导的一部分\n",
    "\n",
    "我们需要继承`torch.autograd.function.Function`这个类\n",
    "\n",
    "重写`Function`类的`forward`和`backword`这两个静态方法"
   ]
  },
  {
   "cell_type": "code",
   "execution_count": 6,
   "metadata": {},
   "outputs": [],
   "source": [
    "from typing import Any, override\n",
    "from torch.autograd.function import Function\n",
    "\n",
    "class MulScaler(Function):\n",
    "    @override\n",
    "    @staticmethod\n",
    "    def forward(ctx, tensor:torch.Tensor, scaler:float) -> torch.Tensor:\n",
    "        ctx.scaler = scaler\n",
    "        return tensor * scaler\n",
    "    \n",
    "    @override\n",
    "    @staticmethod\n",
    "    def backward(ctx, grad_output) -> torch.Tensor:\n",
    "        return grad_output * ctx.scaler, None"
   ]
  },
  {
   "cell_type": "code",
   "execution_count": 7,
   "metadata": {},
   "outputs": [
    {
     "name": "stdout",
     "output_type": "stream",
     "text": [
      "a_2:\n",
      " tensor([[4., 4., 4., 4.],\n",
      "        [4., 4., 4., 4.],\n",
      "        [4., 4., 4., 4.],\n",
      "        [4., 4., 4., 4.]], grad_fn=<MulScalerBackward>)\n",
      "a.grad:\n",
      " tensor([[4., 4., 4., 4.],\n",
      "        [4., 4., 4., 4.],\n",
      "        [4., 4., 4., 4.],\n",
      "        [4., 4., 4., 4.]])\n"
     ]
    }
   ],
   "source": [
    "a = torch.ones(4,4, requires_grad=True)\n",
    "a_2 = MulScaler.apply(a, 4)\n",
    "a_2.backward(torch.ones_like(a_2))\n",
    "print('a_2:\\n', a_2)\n",
    "print('a.grad:\\n', a.grad)"
   ]
  },
  {
   "cell_type": "markdown",
   "metadata": {},
   "source": [
    "通过自定义的函数`MalScaler`实现了`autograd`的正向传播和反向求导"
   ]
  },
  {
   "cell_type": "markdown",
   "metadata": {},
   "source": [
    "---"
   ]
  }
 ],
 "metadata": {
  "kernelspec": {
   "display_name": ".venv",
   "language": "python",
   "name": "python3"
  },
  "language_info": {
   "codemirror_mode": {
    "name": "ipython",
    "version": 3
   },
   "file_extension": ".py",
   "mimetype": "text/x-python",
   "name": "python",
   "nbconvert_exporter": "python",
   "pygments_lexer": "ipython3",
   "version": "3.12.2"
  }
 },
 "nbformat": 4,
 "nbformat_minor": 2
}
